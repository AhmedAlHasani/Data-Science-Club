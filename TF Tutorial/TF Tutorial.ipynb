{
 "cells": [
  {
   "cell_type": "markdown",
   "metadata": {},
   "source": [
    "# Import Dependencies "
   ]
  },
  {
   "cell_type": "code",
   "execution_count": 16,
   "metadata": {},
   "outputs": [],
   "source": [
    "import tensorflow as tf\n",
    "from tensorflow.examples.tutorials.mnist import input_data"
   ]
  },
  {
   "cell_type": "markdown",
   "metadata": {},
   "source": [
    "# Download Data"
   ]
  },
  {
   "cell_type": "code",
   "execution_count": 17,
   "metadata": {},
   "outputs": [
    {
     "name": "stdout",
     "output_type": "stream",
     "text": [
      "Extracting data/MNIST/train-images-idx3-ubyte.gz\n",
      "Extracting data/MNIST/train-labels-idx1-ubyte.gz\n",
      "Extracting data/MNIST/t10k-images-idx3-ubyte.gz\n",
      "Extracting data/MNIST/t10k-labels-idx1-ubyte.gz\n"
     ]
    }
   ],
   "source": [
    "mnist = input_data.read_data_sets(\"data/MNIST/\", one_hot=True)"
   ]
  },
  {
   "cell_type": "markdown",
   "metadata": {},
   "source": [
    "## Note: One Hot Encoding\n",
    "\n",
    "#### One is hot, the rest are cold\n",
    "\n",
    "0 = [1,0,0,0,0,0,0,0,0,0]\n",
    "\n",
    "1 = [0,1,0,0,0,0,0,0,0,0]\n",
    "\n",
    "2 = [0,0,1,0,0,0,0,0,0,0]"
   ]
  },
  {
   "cell_type": "markdown",
   "metadata": {},
   "source": [
    "# Hidden Layers"
   ]
  },
  {
   "cell_type": "code",
   "execution_count": 18,
   "metadata": {},
   "outputs": [],
   "source": [
    "n_nodes_hl1 = 500\n",
    "n_nodes_hl2 = 500\n",
    "n_nodes_hl3 = 500\n",
    "\n",
    "# How many classes to label\n",
    "n_classes = 10\n",
    "\n",
    "# Batch size to feed the NN\n",
    "batch_size = 100"
   ]
  },
  {
   "cell_type": "markdown",
   "metadata": {},
   "source": [
    "# Input Placeholders"
   ]
  },
  {
   "cell_type": "code",
   "execution_count": 19,
   "metadata": {},
   "outputs": [],
   "source": [
    "# X is a tensor, which is a generalization of vectors and matrices. This tensor object will store an image\n",
    "# data type, shape = [height, width]\n",
    "# width is equal to 784, because we are reducing the dimension of the image to 1D, while still containing the same info.\n",
    "x = tf.placeholder('float', [None, 784])\n",
    "\n",
    "# labels\n",
    "y = tf.placeholder('float')"
   ]
  },
  {
   "cell_type": "markdown",
   "metadata": {},
   "source": [
    "# NN Model"
   ]
  },
  {
   "cell_type": "code",
   "execution_count": 70,
   "metadata": {},
   "outputs": [],
   "source": [
    "def neural_network_model(data):\n",
    "    \n",
    "    ##### CREATE HIDDEN LAYERS\n",
    "\n",
    "    # an edge between two nodes will have a weight\n",
    "    # biases are associated with each node, except input nodes\n",
    "    hidden_1_layer = {'weights':tf.Variable(tf.random_normal([784, n_nodes_hl1])),\n",
    "                      'biases':tf.Variable(tf.random_normal([n_nodes_hl1]))}\n",
    "    \n",
    "    hidden_2_layer = {'weights':tf.Variable(tf.random_normal([n_nodes_hl1, n_nodes_hl2])),\n",
    "                      'biases':tf.Variable(tf.random_normal([n_nodes_hl2]))}\n",
    "    \n",
    "    hidden_3_layer = {'weights':tf.Variable(tf.random_normal([n_nodes_hl2, n_nodes_hl3])),\n",
    "                      'biases':tf.Variable(tf.random_normal([n_nodes_hl3]))}\n",
    "    \n",
    "    output_layer = {'weights':tf.Variable(tf.random_normal([n_nodes_hl3, n_classes])),\n",
    "                    'biases':tf.Variable(tf.random_normal([n_classes]))}\n",
    "    \n",
    "    ##### w*x + bias , activation function\n",
    "    \n",
    "    l1 = tf.matmul(data, hidden_1_layer['weights']) +  hidden_1_layer['biases']\n",
    "    l1 = tf.nn.relu(l1)\n",
    "    \n",
    "    l2 = tf.matmul(l1, hidden_2_layer['weights']) + hidden_2_layer['biases']\n",
    "    l2 = tf.nn.relu(l2)\n",
    "    \n",
    "    l3 = tf.matmul(l2, hidden_3_layer['weights']) + hidden_3_layer['biases']\n",
    "    l3 = tf.nn.relu(l3)\n",
    "    \n",
    "    output = tf.matmul(l3, output_layer['weights']) + output_layer['biases']\n",
    "    \n",
    "    return output"
   ]
  },
  {
   "cell_type": "markdown",
   "metadata": {},
   "source": [
    "# Train & Predict The Model"
   ]
  },
  {
   "cell_type": "code",
   "execution_count": 80,
   "metadata": {},
   "outputs": [],
   "source": [
    "def train_neural_network(x):\n",
    "    \n",
    "    # measures how wrong the prediction is \n",
    "    prediction = neural_network_model(x)\n",
    "    \n",
    "    # reduce mean: takes the average of the passed argument. \n",
    "    # softmax: a cost/error function that normalizes the inputs so that the sum(input) = 1, outputs probabilities\n",
    "    # Cross Entropy: the distance between two probability distributions, vectors.\n",
    "    # with logits: unscaled input that we want to scale so that its sum is equal to 1\n",
    "    cost = tf.reduce_mean(tf.nn.softmax_cross_entropy_with_logits(logits=prediction, labels=y))\n",
    "    \n",
    "    # calculates an exponential moving average of the gradient. Learning rate isnt constant\n",
    "    # alternative to SGD, where learning rate is constant\n",
    "    optimizer = tf.train.AdamOptimizer().minimize(cost)\n",
    "    \n",
    "    # cycles of forward feed and back propagation\n",
    "    epochs = 6\n",
    "    \n",
    "    # to run TensorFlow Ops\n",
    "    with tf.Session() as session:\n",
    "        \n",
    "        # run takes a list of 'operations'\n",
    "        # before we can use variables resulted from TF Ops, we need to initialize them. \n",
    "        session.run(tf.global_variables_initializer())\n",
    "        \n",
    "        for epoch in range(epochs):\n",
    "            epoch_loss = 0\n",
    "            \n",
    "            # iterate over the number of image groups which are created from the MNIST training set\n",
    "            for _ in range(int(mnist.train.num_examples/batch_size)):\n",
    "                \n",
    "                # mnist.train.next_batch iterates through the group of images and stores them in 'x' and label 'y'\n",
    "                epoch_x, epoch_y = mnist.train.next_batch(batch_size)\n",
    "                \n",
    "                # runs a one step operations in variables optimizer and cost\n",
    "                # arguments are stored in feed_dictionary\n",
    "                # store cost in C\n",
    "                _, c = session.run([optimizer, cost], feed_dict={x: epoch_x, y: epoch_y})\n",
    "                \n",
    "                # sum all the loss for one epoch for the complete training set\n",
    "                epoch_loss += c\n",
    "                \n",
    "            print('Epoch', epoch, 'complete out of', epochs, 'loss:', epoch_loss)\n",
    "        \n",
    "        # argmax returns indices of the maximum values \n",
    "        # if the two indices in prediction and y are the same, then the prediction is correct, otherwise, incorrect\n",
    "        correct = tf.equal(tf.argmax(prediction, 1), tf.argmax(y, 1))\n",
    "        \n",
    "        # outputs the average accuracy of the test set\n",
    "        # tf.cast will convert the boolean 'correct' variable into a float\n",
    "        accuracy = tf.reduce_mean(tf.cast(correct, 'float'))\n",
    "        \n",
    "        # will run the two lines resulted from the variables 'correct' & 'accuracy'\n",
    "        print('Accuracy:',accuracy.eval({x:mnist.test.images, y:mnist.test.labels}))\n",
    "                "
   ]
  },
  {
   "cell_type": "code",
   "execution_count": 81,
   "metadata": {},
   "outputs": [
    {
     "name": "stdout",
     "output_type": "stream",
     "text": [
      "Epoch 0 complete out of 6 loss: 1673399.0471191406\n",
      "Epoch 1 complete out of 6 loss: 396514.19585227966\n",
      "Epoch 2 complete out of 6 loss: 213293.1284813881\n",
      "Epoch 3 complete out of 6 loss: 125084.58017386455\n",
      "Epoch 4 complete out of 6 loss: 77364.55336558819\n",
      "Epoch 5 complete out of 6 loss: 51161.409061570674\n",
      "Accuracy: 0.9367\n"
     ]
    }
   ],
   "source": [
    "train_neural_network(x)"
   ]
  },
  {
   "cell_type": "code",
   "execution_count": null,
   "metadata": {},
   "outputs": [],
   "source": []
  }
 ],
 "metadata": {
  "kernelspec": {
   "display_name": "Python 3",
   "language": "python",
   "name": "python3"
  },
  "language_info": {
   "codemirror_mode": {
    "name": "ipython",
    "version": 3
   },
   "file_extension": ".py",
   "mimetype": "text/x-python",
   "name": "python",
   "nbconvert_exporter": "python",
   "pygments_lexer": "ipython3",
   "version": "3.6.6"
  }
 },
 "nbformat": 4,
 "nbformat_minor": 2
}
